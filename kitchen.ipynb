{
  "cells": [
    {
      "cell_type": "markdown",
      "metadata": {
        "id": "GgncQ4Mn_aMm"
      },
      "source": [
        "In this notebook you can train a student through DAgger for [FrankaKitchen](https://robotics.farama.org/envs/franka_kitchen/franka_kitchen/) environment. You should set:\n",
        "- `seed`: For reproducibility of training runs"
      ]
    },
    {
      "cell_type": "code",
      "execution_count": 5,
      "metadata": {
        "colab": {
          "base_uri": "https://localhost:8080/"
        },
        "id": "-e5QXguLF-Bo",
        "outputId": "5c355fac-bfab-4d89-d54b-90fc81794c9e"
      },
      "outputs": [
        {
          "name": "stdout",
          "output_type": "stream",
          "text": [
            "Cloning into 'DAgger4Robotics'...\n",
            "remote: Enumerating objects: 861, done.\u001b[K\n",
            "remote: Counting objects: 100% (93/93), done.\u001b[K\n",
            "remote: Compressing objects: 100% (89/89), done.\u001b[K\n",
            "remote: Total 861 (delta 52), reused 18 (delta 4), pack-reused 768 (from 1)\u001b[K\n",
            "Receiving objects: 100% (861/861), 163.21 MiB | 21.48 MiB/s, done.\n",
            "Resolving deltas: 100% (330/330), done.\n",
            "Reading package lists...\n",
            "Building dependency tree...\n",
            "Reading state information...\n",
            "ffmpeg is already the newest version (7:4.4.2-0ubuntu0.22.04.1).\n",
            "xvfb is already the newest version (2:21.1.4-2ubuntu1.7~22.04.15).\n",
            "0 upgraded, 0 newly installed, 0 to remove and 35 not upgraded.\n",
            "\u001b[33mWARNING: typer 0.16.0 does not provide the extra 'all'\u001b[0m\u001b[33m\n",
            "\u001b[0mcuda\n"
          ]
        }
      ],
      "source": [
        "#@title Inizialization and import\n",
        "import shutil\n",
        "shutil.rmtree('DAgger4Robotics', ignore_errors=True)\n",
        "!git clone \"https://github.com/cybernetic-m/DAgger4Robotics.git\"\n",
        "!pip install gymnasium-robotics -q\n",
        "!apt-get install -y xvfb ffmpeg -q\n",
        "!pip install pyvirtualdisplay imageio -q\n",
        "!pip install \"minari[all]\" -q\n",
        "\n",
        "import gymnasium as gym\n",
        "import gymnasium_robotics\n",
        "gym.register_envs(gymnasium_robotics)\n",
        "from gymnasium.wrappers import RecordVideo\n",
        "import torch\n",
        "import torch.nn as nn\n",
        "import json\n",
        "import os\n",
        "import numpy as np\n",
        "import minari # needed for dataset\n",
        "import matplotlib.pyplot as plt\n",
        "\n",
        "from DAgger4Robotics.model.NetworkInterface import NetworkInterface\n",
        "from DAgger4Robotics.dagger.DAgger import DAgger\n",
        "from DAgger4Robotics.utils.preprocess_dataset import preprocess_dataset\n",
        "from DAgger4Robotics.simulator.Simulator import Simulator\n",
        "\n",
        "\n",
        "\n",
        "device = torch.device(\"cuda\" if torch.cuda.is_available() else \"cpu\")\n",
        "print(device)\n",
        "\n",
        "# Reproducibility instructions\n",
        "seed=42 #@param {type:\"integer\"}\n",
        "np.random.seed(seed)                   # NumPy\n",
        "torch.manual_seed(seed)                # PyTorch CPU\n",
        "torch.cuda.manual_seed(seed)           # PyTorch GPU\n",
        "torch.cuda.manual_seed_all(seed)       # All GPUs\n",
        "\n",
        "torch.backends.cudnn.deterministic = True   # Deterministic behaviour\n",
        "torch.backends.cudnn.benchmark = False      # Avoid non-deterministic optimizations\n",
        "\n",
        "# Dimensions of the problem\n",
        "state_dim = 20\n",
        "action_dim = 9"
      ]
    },
    {
      "cell_type": "markdown",
      "metadata": {
        "id": "dwcOQ5obBduN"
      },
      "source": [
        "**THIS DATASET IS USED ONLY FOR EVALUATION**"
      ]
    },
    {
      "cell_type": "code",
      "execution_count": 2,
      "metadata": {
        "colab": {
          "base_uri": "https://localhost:8080/"
        },
        "id": "Q7qdeub5dG-a",
        "outputId": "289f67e1-b3e3-40c1-d89c-cc75e064c460"
      },
      "outputs": [
        {
          "name": "stdout",
          "output_type": "stream",
          "text": [
            "Dataset loaded successfully!\n",
            "Total Episodes: 19\n"
          ]
        }
      ],
      "source": [
        "#@title Loading and preprocess dataset\n",
        "# Download the dataset\n",
        "kitchen_dataset_type = 'complete'\n",
        "validation_dataset = minari.load_dataset(f'D4RL/kitchen/{kitchen_dataset_type}-v2',download=True)\n",
        "validation_dataset.set_seed(seed)  # Set a seed for reproducibility\n",
        "print(\"Dataset loaded successfully!\")\n",
        "print(f'Total Episodes: {validation_dataset.total_episodes}')\n",
        "\n",
        "# We preprocess the dataset in a way to extract a subset of observation needed only for the microwave task (open it)\n",
        "# Then preprocess_dataset function will cut the complete kitchen dataset to the step in which the robot has completed the opening\n",
        "# of the microwave (that is the first operation that it do in the env). In our cutted version of the dataset each obs, action is formed:\n",
        "# Observation (20-dim):\n",
        "#              - 0-6 joint angles\n",
        "#              - 7-8 gripper joint translation value (LEFT-RIGHT pieces)\n",
        "#              - 9-15 joint angular velocities\n",
        "#              - 16-17 gripper joint linear velocity (LEFT-RIGHT pieces)\n",
        "#              - 31  Rotation of the joint in the microwave door (angle)\n",
        "#              - 52 Angular velocity of the microwave door joint\n",
        "# Actions (9-dim):\n",
        "#              - 0-6 joint angular velocities\n",
        "#              - 7-8 gripper joint linear velocity (LEFT-RIGHT)\n",
        "# You can access to the single episode and to the single step using 'microwave_dataset['observations/actions'][epi][step]'\n",
        "\n",
        "#Using all the episodes to validate the new student\n",
        "validation_microwave_dataset = preprocess_dataset(validation_dataset)"
      ]
    },
    {
      "cell_type": "markdown",
      "metadata": {
        "id": "EEOfwQN8_vMt"
      },
      "source": [
        "### Training Student Hyperparameters\n",
        "This part of code runs and tests the DAgger algorithm. You must set\n",
        "- `batch_size`: Number of samples state-action per batch\n",
        "- `lr`: Learning rate for the optimizer\n",
        "- `num_epochs`: Number of training epochs\n",
        "- `rollouts_per_iteration`: Number of generated episodes in each iteration of DAgger\n",
        "- `n_iterations`: Number of iteration of DAgger\n",
        "- `betaMode`: The type of function that manages the decay of Beta. It can be `'inverse'`, `'linear'`, `'exponential'`\n",
        "- `exponential_beta_k`: Exponent used in the beta function when betaMode is set to `'exponential'`\n",
        "- `student_type`: It can be `'simple'` or `'deep'`, but generally `'simple'` for students\n",
        "\n",
        "### Loading a different expert\n",
        "If you want to use a different expert , you can load it manually by changing:\n",
        "- `path_to_expert_model`: Insert here the complete path to the model provided by `Dagger4Robotics` folder\n",
        "- `expert_type`: The architecture type of the loaded model (`\"simple\"` or `\"deep\"`)"
      ]
    },
    {
      "cell_type": "code",
      "execution_count": 3,
      "metadata": {
        "colab": {
          "base_uri": "https://localhost:8080/"
        },
        "id": "vuwONJ9_ee7x",
        "outputId": "fb722a2a-19ba-484b-dc74-6a67175c865c"
      },
      "outputs": [
        {
          "name": "stdout",
          "output_type": "stream",
          "text": [
            "SimplePolicyNet(\n",
            "  (net): Sequential(\n",
            "    (0): Linear(in_features=20, out_features=256, bias=True)\n",
            "    (1): ReLU()\n",
            "    (2): Linear(in_features=256, out_features=128, bias=True)\n",
            "    (3): ReLU()\n",
            "    (4): Linear(in_features=128, out_features=9, bias=True)\n",
            "  )\n",
            ")\n",
            "DeepPolicyNet(\n",
            "  (net): Sequential(\n",
            "    (0): Linear(in_features=20, out_features=512, bias=True)\n",
            "    (1): ReLU()\n",
            "    (2): Linear(in_features=512, out_features=512, bias=True)\n",
            "    (3): ReLU()\n",
            "    (4): Linear(in_features=512, out_features=512, bias=True)\n",
            "    (5): ReLU()\n",
            "    (6): Linear(in_features=512, out_features=256, bias=True)\n",
            "    (7): ReLU()\n",
            "    (8): Linear(in_features=256, out_features=9, bias=True)\n",
            "  )\n",
            ")\n",
            "Validation Dataset correctly loaded.\n",
            "Obs Space Dim: 1058, Action Space Dim: 1058\n",
            "Run DAgger algorithm...\n",
            "\n",
            "--- ITERATION 1/20 | beta = 1.000 ---\n",
            "Rollout... \n",
            "The Expert was selected 2251 times, while the student was selected 0 times\n",
            "Collected data - Observations: 2251 Actions: 2251\n",
            "Training Student Policy...\n",
            "EPOCH 0:\n"
          ]
        },
        {
          "name": "stderr",
          "output_type": "stream",
          "text": [
            "Elements...: 100%|██████████| 5/5 [00:00<00:00, 43.24it/s]\n"
          ]
        },
        {
          "name": "stdout",
          "output_type": "stream",
          "text": [
            "TRAIN\t Loss: 0.06956767, RMSE: 0.21982442, MAE: 0.18712765, R2: -2.55954194\n",
            "EPOCH 1:\n"
          ]
        },
        {
          "name": "stderr",
          "output_type": "stream",
          "text": [
            "Elements...: 100%|██████████| 5/5 [00:00<00:00, 414.80it/s]\n"
          ]
        },
        {
          "name": "stdout",
          "output_type": "stream",
          "text": [
            "TRAIN\t Loss: 0.05893051, RMSE: 0.20058390, MAE: 0.16608353, R2: -1.56348598\n",
            "EPOCH 2:\n"
          ]
        },
        {
          "name": "stderr",
          "output_type": "stream",
          "text": [
            "Elements...: 100%|██████████| 5/5 [00:00<00:00, 435.03it/s]\n"
          ]
        },
        {
          "name": "stdout",
          "output_type": "stream",
          "text": [
            "TRAIN\t Loss: 0.04995199, RMSE: 0.18478410, MAE: 0.15138566, R2: -1.05634713\n",
            "EPOCH 3:\n"
          ]
        },
        {
          "name": "stderr",
          "output_type": "stream",
          "text": [
            "Elements...: 100%|██████████| 5/5 [00:00<00:00, 444.17it/s]\n"
          ]
        },
        {
          "name": "stdout",
          "output_type": "stream",
          "text": [
            "TRAIN\t Loss: 0.04239215, RMSE: 0.17146227, MAE: 0.13936812, R2: -0.76474333\n",
            "EPOCH 4:\n"
          ]
        },
        {
          "name": "stderr",
          "output_type": "stream",
          "text": [
            "Elements...: 100%|██████████| 5/5 [00:00<00:00, 437.51it/s]"
          ]
        },
        {
          "name": "stdout",
          "output_type": "stream",
          "text": [
            "TRAIN\t Loss: 0.03638558, RMSE: 0.15993601, MAE: 0.12771399, R2: -0.52789789\n",
            "Model saved as student_policy_0.pt\n",
            "\n",
            "--- ITERATION 2/20 | beta = 0.607 ---\n",
            "Rollout... \n"
          ]
        },
        {
          "name": "stderr",
          "output_type": "stream",
          "text": [
            "\n"
          ]
        },
        {
          "name": "stdout",
          "output_type": "stream",
          "text": [
            "The Expert was selected 2984 times, while the student was selected 1952 times\n",
            "Collected data - Observations: 7187 Actions: 7187\n",
            "Training Student Policy...\n",
            "EPOCH 0:\n"
          ]
        },
        {
          "name": "stderr",
          "output_type": "stream",
          "text": [
            "Elements...: 100%|██████████| 15/15 [00:00<00:00, 432.17it/s]\n"
          ]
        },
        {
          "name": "stdout",
          "output_type": "stream",
          "text": [
            "TRAIN\t Loss: 0.00626807, RMSE: 0.07262066, MAE: 0.05600550, R2: 0.41065803\n",
            "EPOCH 1:\n"
          ]
        },
        {
          "name": "stderr",
          "output_type": "stream",
          "text": [
            "Elements...: 100%|██████████| 15/15 [00:00<00:00, 424.50it/s]\n"
          ]
        },
        {
          "name": "stdout",
          "output_type": "stream",
          "text": [
            "TRAIN\t Loss: 0.00495579, RMSE: 0.06416727, MAE: 0.04830245, R2: 0.56367826\n",
            "EPOCH 2:\n"
          ]
        },
        {
          "name": "stderr",
          "output_type": "stream",
          "text": [
            "Elements...: 100%|██████████| 15/15 [00:00<00:00, 438.98it/s]\n"
          ]
        },
        {
          "name": "stdout",
          "output_type": "stream",
          "text": [
            "TRAIN\t Loss: 0.00417331, RMSE: 0.05881785, MAE: 0.04376966, R2: 0.62780881\n",
            "EPOCH 3:\n"
          ]
        },
        {
          "name": "stderr",
          "output_type": "stream",
          "text": [
            "Elements...: 100%|██████████| 15/15 [00:00<00:00, 438.25it/s]\n"
          ]
        },
        {
          "name": "stdout",
          "output_type": "stream",
          "text": [
            "TRAIN\t Loss: 0.00360071, RMSE: 0.05472971, MAE: 0.04024391, R2: 0.67013192\n",
            "EPOCH 4:\n"
          ]
        },
        {
          "name": "stderr",
          "output_type": "stream",
          "text": [
            "Elements...: 100%|██████████| 15/15 [00:00<00:00, 429.37it/s]\n"
          ]
        },
        {
          "name": "stdout",
          "output_type": "stream",
          "text": [
            "TRAIN\t Loss: 0.00315059, RMSE: 0.05134058, MAE: 0.03738237, R2: 0.70011914\n",
            "Model saved as student_policy_1.pt\n",
            "\n",
            "--- ITERATION 3/20 | beta = 0.368 ---\n",
            "Rollout... \n",
            "The Expert was selected 816 times, while the student was selected 1382 times\n",
            "Collected data - Observations: 9385 Actions: 9385\n",
            "Training Student Policy...\n",
            "EPOCH 0:\n"
          ]
        },
        {
          "name": "stderr",
          "output_type": "stream",
          "text": [
            "Elements...: 100%|██████████| 19/19 [00:00<00:00, 420.81it/s]\n"
          ]
        },
        {
          "name": "stdout",
          "output_type": "stream",
          "text": [
            "TRAIN\t Loss: 0.00107835, RMSE: 0.03063249, MAE: 0.02332627, R2: 0.88514179\n",
            "EPOCH 1:\n"
          ]
        },
        {
          "name": "stderr",
          "output_type": "stream",
          "text": [
            "Elements...: 100%|██████████| 19/19 [00:00<00:00, 411.61it/s]\n"
          ]
        },
        {
          "name": "stdout",
          "output_type": "stream",
          "text": [
            "TRAIN\t Loss: 0.00094375, RMSE: 0.02867146, MAE: 0.02163554, R2: 0.90275300\n",
            "EPOCH 2:\n"
          ]
        },
        {
          "name": "stderr",
          "output_type": "stream",
          "text": [
            "Elements...: 100%|██████████| 19/19 [00:00<00:00, 408.35it/s]\n"
          ]
        },
        {
          "name": "stdout",
          "output_type": "stream",
          "text": [
            "TRAIN\t Loss: 0.00085095, RMSE: 0.02725034, MAE: 0.02044651, R2: 0.91300911\n",
            "EPOCH 3:\n"
          ]
        },
        {
          "name": "stderr",
          "output_type": "stream",
          "text": [
            "Elements...: 100%|██████████| 19/19 [00:00<00:00, 396.11it/s]\n"
          ]
        },
        {
          "name": "stdout",
          "output_type": "stream",
          "text": [
            "TRAIN\t Loss: 0.00077528, RMSE: 0.02604402, MAE: 0.01944443, R2: 0.92018181\n",
            "EPOCH 4:\n"
          ]
        },
        {
          "name": "stderr",
          "output_type": "stream",
          "text": [
            "Elements...: 100%|██████████| 19/19 [00:00<00:00, 397.16it/s]\n"
          ]
        },
        {
          "name": "stdout",
          "output_type": "stream",
          "text": [
            "TRAIN\t Loss: 0.00071387, RMSE: 0.02500309, MAE: 0.01859363, R2: 0.92579246\n",
            "Model saved as student_policy_2.pt\n",
            "\n",
            "--- ITERATION 4/20 | beta = 0.223 ---\n",
            "Rollout... \n",
            "The Expert was selected 513 times, while the student was selected 1739 times\n",
            "Collected data - Observations: 11637 Actions: 11637\n",
            "Training Student Policy...\n",
            "EPOCH 0:\n"
          ]
        },
        {
          "name": "stderr",
          "output_type": "stream",
          "text": [
            "Elements...: 100%|██████████| 23/23 [00:00<00:00, 393.97it/s]\n"
          ]
        },
        {
          "name": "stdout",
          "output_type": "stream",
          "text": [
            "TRAIN\t Loss: 0.00038072, RMSE: 0.01832396, MAE: 0.01388509, R2: 0.95841271\n",
            "EPOCH 1:\n"
          ]
        },
        {
          "name": "stderr",
          "output_type": "stream",
          "text": [
            "Elements...: 100%|██████████| 23/23 [00:00<00:00, 406.63it/s]\n"
          ]
        },
        {
          "name": "stdout",
          "output_type": "stream",
          "text": [
            "TRAIN\t Loss: 0.00035331, RMSE: 0.01766007, MAE: 0.01334807, R2: 0.96108544\n",
            "EPOCH 2:\n"
          ]
        },
        {
          "name": "stderr",
          "output_type": "stream",
          "text": [
            "Elements...: 100%|██████████| 23/23 [00:00<00:00, 431.12it/s]\n"
          ]
        },
        {
          "name": "stdout",
          "output_type": "stream",
          "text": [
            "TRAIN\t Loss: 0.00032891, RMSE: 0.01705475, MAE: 0.01285930, R2: 0.96325660\n",
            "EPOCH 3:\n"
          ]
        },
        {
          "name": "stderr",
          "output_type": "stream",
          "text": [
            "Elements...: 100%|██████████| 23/23 [00:00<00:00, 423.45it/s]\n"
          ]
        },
        {
          "name": "stdout",
          "output_type": "stream",
          "text": [
            "TRAIN\t Loss: 0.00030779, RMSE: 0.01651840, MAE: 0.01241964, R2: 0.96506542\n",
            "EPOCH 4:\n"
          ]
        },
        {
          "name": "stderr",
          "output_type": "stream",
          "text": [
            "Elements...: 100%|██████████| 23/23 [00:00<00:00, 414.70it/s]\n"
          ]
        },
        {
          "name": "stdout",
          "output_type": "stream",
          "text": [
            "TRAIN\t Loss: 0.00029036, RMSE: 0.01606067, MAE: 0.01204328, R2: 0.96659237\n",
            "Model saved as student_policy_3.pt\n",
            "\n",
            "--- ITERATION 5/20 | beta = 0.135 ---\n",
            "Rollout... \n",
            "The Expert was selected 323 times, while the student was selected 1931 times\n",
            "Collected data - Observations: 13891 Actions: 13891\n",
            "Training Student Policy...\n",
            "EPOCH 0:\n"
          ]
        },
        {
          "name": "stderr",
          "output_type": "stream",
          "text": [
            "Elements...: 100%|██████████| 28/28 [00:00<00:00, 304.98it/s]\n"
          ]
        },
        {
          "name": "stdout",
          "output_type": "stream",
          "text": [
            "TRAIN\t Loss: 0.00019085, RMSE: 0.01309653, MAE: 0.00979602, R2: 0.97676986\n",
            "EPOCH 1:\n"
          ]
        },
        {
          "name": "stderr",
          "output_type": "stream",
          "text": [
            "Elements...: 100%|██████████| 28/28 [00:00<00:00, 323.16it/s]\n"
          ]
        },
        {
          "name": "stdout",
          "output_type": "stream",
          "text": [
            "TRAIN\t Loss: 0.00018103, RMSE: 0.01275033, MAE: 0.00951403, R2: 0.97785163\n",
            "EPOCH 2:\n"
          ]
        },
        {
          "name": "stderr",
          "output_type": "stream",
          "text": [
            "Elements...: 100%|██████████| 28/28 [00:00<00:00, 297.32it/s]\n"
          ]
        },
        {
          "name": "stdout",
          "output_type": "stream",
          "text": [
            "TRAIN\t Loss: 0.00017167, RMSE: 0.01244723, MAE: 0.00926998, R2: 0.97878224\n",
            "EPOCH 3:\n"
          ]
        },
        {
          "name": "stderr",
          "output_type": "stream",
          "text": [
            "Elements...: 100%|██████████| 28/28 [00:00<00:00, 333.35it/s]\n"
          ]
        },
        {
          "name": "stdout",
          "output_type": "stream",
          "text": [
            "TRAIN\t Loss: 0.00016385, RMSE: 0.01217131, MAE: 0.00904943, R2: 0.97965622\n",
            "EPOCH 4:\n"
          ]
        },
        {
          "name": "stderr",
          "output_type": "stream",
          "text": [
            "Elements...: 100%|██████████| 28/28 [00:00<00:00, 346.56it/s]\n"
          ]
        },
        {
          "name": "stdout",
          "output_type": "stream",
          "text": [
            "TRAIN\t Loss: 0.00015675, RMSE: 0.01190954, MAE: 0.00883827, R2: 0.98049831\n",
            "Model saved as student_policy_4.pt\n",
            "\n",
            "--- ITERATION 6/20 | beta = 0.082 ---\n",
            "Rollout... \n",
            "The Expert was selected 195 times, while the student was selected 2048 times\n",
            "Collected data - Observations: 16134 Actions: 16134\n",
            "Training Student Policy...\n",
            "EPOCH 0:\n"
          ]
        },
        {
          "name": "stderr",
          "output_type": "stream",
          "text": [
            "Elements...: 100%|██████████| 32/32 [00:00<00:00, 394.27it/s]\n"
          ]
        },
        {
          "name": "stdout",
          "output_type": "stream",
          "text": [
            "TRAIN\t Loss: 0.00011238, RMSE: 0.01009608, MAE: 0.00746115, R2: 0.98636365\n",
            "EPOCH 1:\n"
          ]
        },
        {
          "name": "stderr",
          "output_type": "stream",
          "text": [
            "Elements...: 100%|██████████| 32/32 [00:00<00:00, 397.89it/s]\n"
          ]
        },
        {
          "name": "stdout",
          "output_type": "stream",
          "text": [
            "TRAIN\t Loss: 0.00010825, RMSE: 0.00991186, MAE: 0.00732270, R2: 0.98684776\n",
            "EPOCH 2:\n"
          ]
        },
        {
          "name": "stderr",
          "output_type": "stream",
          "text": [
            "Elements...: 100%|██████████| 32/32 [00:00<00:00, 415.51it/s]\n"
          ]
        },
        {
          "name": "stdout",
          "output_type": "stream",
          "text": [
            "TRAIN\t Loss: 0.00010507, RMSE: 0.00975955, MAE: 0.00720765, R2: 0.98730916\n",
            "EPOCH 3:\n"
          ]
        },
        {
          "name": "stderr",
          "output_type": "stream",
          "text": [
            "Elements...: 100%|██████████| 32/32 [00:00<00:00, 368.31it/s]\n"
          ]
        },
        {
          "name": "stdout",
          "output_type": "stream",
          "text": [
            "TRAIN\t Loss: 0.00010187, RMSE: 0.00960834, MAE: 0.00709106, R2: 0.98768467\n",
            "EPOCH 4:\n"
          ]
        },
        {
          "name": "stderr",
          "output_type": "stream",
          "text": [
            "Elements...: 100%|██████████| 32/32 [00:00<00:00, 416.37it/s]\n"
          ]
        },
        {
          "name": "stdout",
          "output_type": "stream",
          "text": [
            "TRAIN\t Loss: 0.00009905, RMSE: 0.00946967, MAE: 0.00698185, R2: 0.98804748\n",
            "Model saved as student_policy_5.pt\n",
            "\n",
            "--- ITERATION 7/20 | beta = 0.050 ---\n",
            "Rollout... \n",
            "The Expert was selected 104 times, while the student was selected 2190 times\n",
            "Collected data - Observations: 18428 Actions: 18428\n",
            "Training Student Policy...\n",
            "EPOCH 0:\n"
          ]
        },
        {
          "name": "stderr",
          "output_type": "stream",
          "text": [
            "Elements...: 100%|██████████| 36/36 [00:00<00:00, 404.18it/s]\n"
          ]
        },
        {
          "name": "stdout",
          "output_type": "stream",
          "text": [
            "TRAIN\t Loss: 0.00008250, RMSE: 0.00863004, MAE: 0.00638968, R2: 0.99064225\n",
            "EPOCH 1:\n"
          ]
        },
        {
          "name": "stderr",
          "output_type": "stream",
          "text": [
            "Elements...: 100%|██████████| 36/36 [00:00<00:00, 395.94it/s]\n"
          ]
        },
        {
          "name": "stdout",
          "output_type": "stream",
          "text": [
            "TRAIN\t Loss: 0.00007957, RMSE: 0.00847160, MAE: 0.00625255, R2: 0.99100101\n",
            "EPOCH 2:\n"
          ]
        },
        {
          "name": "stderr",
          "output_type": "stream",
          "text": [
            "Elements...: 100%|██████████| 36/36 [00:00<00:00, 366.84it/s]\n"
          ]
        },
        {
          "name": "stdout",
          "output_type": "stream",
          "text": [
            "TRAIN\t Loss: 0.00007704, RMSE: 0.00833722, MAE: 0.00613964, R2: 0.99128425\n",
            "EPOCH 3:\n"
          ]
        },
        {
          "name": "stderr",
          "output_type": "stream",
          "text": [
            "Elements...: 100%|██████████| 36/36 [00:00<00:00, 395.83it/s]\n"
          ]
        },
        {
          "name": "stdout",
          "output_type": "stream",
          "text": [
            "TRAIN\t Loss: 0.00007447, RMSE: 0.00819800, MAE: 0.00602169, R2: 0.99154216\n",
            "EPOCH 4:\n"
          ]
        },
        {
          "name": "stderr",
          "output_type": "stream",
          "text": [
            "Elements...: 100%|██████████| 36/36 [00:00<00:00, 380.07it/s]\n"
          ]
        },
        {
          "name": "stdout",
          "output_type": "stream",
          "text": [
            "TRAIN\t Loss: 0.00007234, RMSE: 0.00808195, MAE: 0.00592789, R2: 0.99175060\n",
            "Model saved as student_policy_6.pt\n",
            "\n",
            "--- ITERATION 8/20 | beta = 0.030 ---\n",
            "Rollout... \n",
            "The Expert was selected 65 times, while the student was selected 2185 times\n",
            "Collected data - Observations: 20678 Actions: 20678\n",
            "Training Student Policy...\n",
            "EPOCH 0:\n"
          ]
        },
        {
          "name": "stderr",
          "output_type": "stream",
          "text": [
            "Elements...: 100%|██████████| 41/41 [00:00<00:00, 389.21it/s]\n"
          ]
        },
        {
          "name": "stdout",
          "output_type": "stream",
          "text": [
            "TRAIN\t Loss: 0.00006049, RMSE: 0.00737155, MAE: 0.00541875, R2: 0.99338681\n",
            "EPOCH 1:\n"
          ]
        },
        {
          "name": "stderr",
          "output_type": "stream",
          "text": [
            "Elements...: 100%|██████████| 41/41 [00:00<00:00, 390.23it/s]\n"
          ]
        },
        {
          "name": "stdout",
          "output_type": "stream",
          "text": [
            "TRAIN\t Loss: 0.00005822, RMSE: 0.00723063, MAE: 0.00529432, R2: 0.99361736\n",
            "EPOCH 2:\n"
          ]
        },
        {
          "name": "stderr",
          "output_type": "stream",
          "text": [
            "Elements...: 100%|██████████| 41/41 [00:00<00:00, 371.28it/s]\n"
          ]
        },
        {
          "name": "stdout",
          "output_type": "stream",
          "text": [
            "TRAIN\t Loss: 0.00005630, RMSE: 0.00711039, MAE: 0.00518798, R2: 0.99379361\n",
            "EPOCH 3:\n"
          ]
        },
        {
          "name": "stderr",
          "output_type": "stream",
          "text": [
            "Elements...: 100%|██████████| 41/41 [00:00<00:00, 331.73it/s]\n"
          ]
        },
        {
          "name": "stdout",
          "output_type": "stream",
          "text": [
            "TRAIN\t Loss: 0.00005609, RMSE: 0.00708309, MAE: 0.00518013, R2: 0.99391258\n",
            "EPOCH 4:\n"
          ]
        },
        {
          "name": "stderr",
          "output_type": "stream",
          "text": [
            "Elements...: 100%|██████████| 41/41 [00:00<00:00, 382.68it/s]\n"
          ]
        },
        {
          "name": "stdout",
          "output_type": "stream",
          "text": [
            "TRAIN\t Loss: 0.00005504, RMSE: 0.00701565, MAE: 0.00513025, R2: 0.99402863\n",
            "Model saved as student_policy_7.pt\n",
            "\n",
            "--- ITERATION 9/20 | beta = 0.018 ---\n",
            "Rollout... \n",
            "The Expert was selected 45 times, while the student was selected 2205 times\n",
            "Collected data - Observations: 22928 Actions: 22928\n",
            "Training Student Policy...\n",
            "EPOCH 0:\n"
          ]
        },
        {
          "name": "stderr",
          "output_type": "stream",
          "text": [
            "Elements...: 100%|██████████| 45/45 [00:00<00:00, 398.16it/s]\n"
          ]
        },
        {
          "name": "stdout",
          "output_type": "stream",
          "text": [
            "TRAIN\t Loss: 0.00004581, RMSE: 0.00639035, MAE: 0.00463728, R2: 0.99510831\n",
            "EPOCH 1:\n"
          ]
        },
        {
          "name": "stderr",
          "output_type": "stream",
          "text": [
            "Elements...: 100%|██████████| 45/45 [00:00<00:00, 352.69it/s]\n"
          ]
        },
        {
          "name": "stdout",
          "output_type": "stream",
          "text": [
            "TRAIN\t Loss: 0.00004484, RMSE: 0.00632134, MAE: 0.00458661, R2: 0.99521703\n",
            "EPOCH 2:\n"
          ]
        },
        {
          "name": "stderr",
          "output_type": "stream",
          "text": [
            "Elements...: 100%|██████████| 45/45 [00:00<00:00, 364.01it/s]\n"
          ]
        },
        {
          "name": "stdout",
          "output_type": "stream",
          "text": [
            "TRAIN\t Loss: 0.00004432, RMSE: 0.00628021, MAE: 0.00455776, R2: 0.99528778\n",
            "EPOCH 3:\n"
          ]
        },
        {
          "name": "stderr",
          "output_type": "stream",
          "text": [
            "Elements...: 100%|██████████| 45/45 [00:00<00:00, 389.94it/s]\n"
          ]
        },
        {
          "name": "stdout",
          "output_type": "stream",
          "text": [
            "TRAIN\t Loss: 0.00004333, RMSE: 0.00621217, MAE: 0.00450211, R2: 0.99538285\n",
            "EPOCH 4:\n"
          ]
        },
        {
          "name": "stderr",
          "output_type": "stream",
          "text": [
            "Elements...: 100%|██████████| 45/45 [00:00<00:00, 398.38it/s]\n"
          ]
        },
        {
          "name": "stdout",
          "output_type": "stream",
          "text": [
            "TRAIN\t Loss: 0.00004298, RMSE: 0.00618529, MAE: 0.00448984, R2: 0.99542862\n",
            "Model saved as student_policy_8.pt\n",
            "\n",
            "--- ITERATION 10/20 | beta = 0.011 ---\n",
            "Rollout... \n",
            "The Expert was selected 24 times, while the student was selected 2226 times\n",
            "Collected data - Observations: 25178 Actions: 25178\n",
            "Training Student Policy...\n",
            "EPOCH 0:\n"
          ]
        },
        {
          "name": "stderr",
          "output_type": "stream",
          "text": [
            "Elements...: 100%|██████████| 50/50 [00:00<00:00, 399.09it/s]\n"
          ]
        },
        {
          "name": "stdout",
          "output_type": "stream",
          "text": [
            "TRAIN\t Loss: 0.00003724, RMSE: 0.00574875, MAE: 0.00417393, R2: 0.99605983\n",
            "EPOCH 1:\n"
          ]
        },
        {
          "name": "stderr",
          "output_type": "stream",
          "text": [
            "Elements...: 100%|██████████| 50/50 [00:00<00:00, 396.53it/s]\n"
          ]
        },
        {
          "name": "stdout",
          "output_type": "stream",
          "text": [
            "TRAIN\t Loss: 0.00003850, RMSE: 0.00583894, MAE: 0.00426912, R2: 0.99603391\n",
            "EPOCH 2:\n"
          ]
        },
        {
          "name": "stderr",
          "output_type": "stream",
          "text": [
            "Elements...: 100%|██████████| 50/50 [00:00<00:00, 401.91it/s]\n"
          ]
        },
        {
          "name": "stdout",
          "output_type": "stream",
          "text": [
            "TRAIN\t Loss: 0.00003939, RMSE: 0.00588381, MAE: 0.00432533, R2: 0.99604100\n",
            "EPOCH 3:\n"
          ]
        },
        {
          "name": "stderr",
          "output_type": "stream",
          "text": [
            "Elements...: 100%|██████████| 50/50 [00:00<00:00, 396.90it/s]\n"
          ]
        },
        {
          "name": "stdout",
          "output_type": "stream",
          "text": [
            "TRAIN\t Loss: 0.00003923, RMSE: 0.00586752, MAE: 0.00432196, R2: 0.99608922\n",
            "EPOCH 4:\n"
          ]
        },
        {
          "name": "stderr",
          "output_type": "stream",
          "text": [
            "Elements...: 100%|██████████| 50/50 [00:00<00:00, 383.54it/s]\n"
          ]
        },
        {
          "name": "stdout",
          "output_type": "stream",
          "text": [
            "TRAIN\t Loss: 0.00003780, RMSE: 0.00576978, MAE: 0.00423171, R2: 0.99618244\n",
            "Model saved as student_policy_9.pt\n",
            "\n",
            "--- ITERATION 11/20 | beta = 0.007 ---\n",
            "Rollout... \n",
            "The Expert was selected 12 times, while the student was selected 2238 times\n",
            "Collected data - Observations: 27428 Actions: 27428\n",
            "Training Student Policy...\n",
            "EPOCH 0:\n"
          ]
        },
        {
          "name": "stderr",
          "output_type": "stream",
          "text": [
            "Elements...: 100%|██████████| 54/54 [00:00<00:00, 399.73it/s]\n"
          ]
        },
        {
          "name": "stdout",
          "output_type": "stream",
          "text": [
            "TRAIN\t Loss: 0.00003697, RMSE: 0.00560723, MAE: 0.00409392, R2: 0.99661201\n",
            "EPOCH 1:\n"
          ]
        },
        {
          "name": "stderr",
          "output_type": "stream",
          "text": [
            "Elements...: 100%|██████████| 54/54 [00:00<00:00, 371.18it/s]\n"
          ]
        },
        {
          "name": "stdout",
          "output_type": "stream",
          "text": [
            "TRAIN\t Loss: 0.00003624, RMSE: 0.00557681, MAE: 0.00409968, R2: 0.99663883\n",
            "EPOCH 2:\n"
          ]
        },
        {
          "name": "stderr",
          "output_type": "stream",
          "text": [
            "Elements...: 100%|██████████| 54/54 [00:00<00:00, 398.68it/s]\n"
          ]
        },
        {
          "name": "stdout",
          "output_type": "stream",
          "text": [
            "TRAIN\t Loss: 0.00003523, RMSE: 0.00550460, MAE: 0.00405160, R2: 0.99669445\n",
            "EPOCH 3:\n"
          ]
        },
        {
          "name": "stderr",
          "output_type": "stream",
          "text": [
            "Elements...: 100%|██████████| 54/54 [00:00<00:00, 364.04it/s]\n"
          ]
        },
        {
          "name": "stdout",
          "output_type": "stream",
          "text": [
            "TRAIN\t Loss: 0.00003357, RMSE: 0.00539503, MAE: 0.00395088, R2: 0.99676883\n",
            "EPOCH 4:\n"
          ]
        },
        {
          "name": "stderr",
          "output_type": "stream",
          "text": [
            "Elements...: 100%|██████████| 54/54 [00:00<00:00, 387.89it/s]\n"
          ]
        },
        {
          "name": "stdout",
          "output_type": "stream",
          "text": [
            "TRAIN\t Loss: 0.00003325, RMSE: 0.00536193, MAE: 0.00393234, R2: 0.99681306\n",
            "Model saved as student_policy_10.pt\n",
            "\n",
            "--- ITERATION 12/20 | beta = 0.004 ---\n",
            "Rollout... \n",
            "The Expert was selected 9 times, while the student was selected 2242 times\n",
            "Collected data - Observations: 29679 Actions: 29679\n",
            "Training Student Policy...\n",
            "EPOCH 0:\n"
          ]
        },
        {
          "name": "stderr",
          "output_type": "stream",
          "text": [
            "Elements...: 100%|██████████| 58/58 [00:00<00:00, 327.36it/s]\n"
          ]
        },
        {
          "name": "stdout",
          "output_type": "stream",
          "text": [
            "TRAIN\t Loss: 0.00003006, RMSE: 0.00512756, MAE: 0.00377713, R2: 0.99699551\n",
            "EPOCH 1:\n"
          ]
        },
        {
          "name": "stderr",
          "output_type": "stream",
          "text": [
            "Elements...: 100%|██████████| 58/58 [00:00<00:00, 288.32it/s]\n"
          ]
        },
        {
          "name": "stdout",
          "output_type": "stream",
          "text": [
            "TRAIN\t Loss: 0.00003019, RMSE: 0.00514309, MAE: 0.00381050, R2: 0.99702287\n",
            "EPOCH 2:\n"
          ]
        },
        {
          "name": "stderr",
          "output_type": "stream",
          "text": [
            "Elements...: 100%|██████████| 58/58 [00:00<00:00, 313.09it/s]\n"
          ]
        },
        {
          "name": "stdout",
          "output_type": "stream",
          "text": [
            "TRAIN\t Loss: 0.00002998, RMSE: 0.00512189, MAE: 0.00379632, R2: 0.99706376\n",
            "EPOCH 3:\n"
          ]
        },
        {
          "name": "stderr",
          "output_type": "stream",
          "text": [
            "Elements...: 100%|██████████| 58/58 [00:00<00:00, 291.04it/s]\n"
          ]
        },
        {
          "name": "stdout",
          "output_type": "stream",
          "text": [
            "TRAIN\t Loss: 0.00003060, RMSE: 0.00515871, MAE: 0.00383956, R2: 0.99707669\n",
            "EPOCH 4:\n"
          ]
        },
        {
          "name": "stderr",
          "output_type": "stream",
          "text": [
            "Elements...: 100%|██████████| 58/58 [00:00<00:00, 285.91it/s]\n"
          ]
        },
        {
          "name": "stdout",
          "output_type": "stream",
          "text": [
            "TRAIN\t Loss: 0.00003203, RMSE: 0.00526619, MAE: 0.00393565, R2: 0.99701375\n",
            "Model saved as student_policy_11.pt\n",
            "\n",
            "--- ITERATION 13/20 | beta = 0.002 ---\n",
            "Rollout... \n",
            "The Expert was selected 6 times, while the student was selected 2294 times\n",
            "Collected data - Observations: 31979 Actions: 31979\n",
            "Training Student Policy...\n",
            "EPOCH 0:\n"
          ]
        },
        {
          "name": "stderr",
          "output_type": "stream",
          "text": [
            "Elements...: 100%|██████████| 63/63 [00:00<00:00, 385.90it/s]\n"
          ]
        },
        {
          "name": "stdout",
          "output_type": "stream",
          "text": [
            "TRAIN\t Loss: 0.00002888, RMSE: 0.00503364, MAE: 0.00379787, R2: 0.99722362\n",
            "EPOCH 1:\n"
          ]
        },
        {
          "name": "stderr",
          "output_type": "stream",
          "text": [
            "Elements...: 100%|██████████| 63/63 [00:00<00:00, 388.31it/s]\n"
          ]
        },
        {
          "name": "stdout",
          "output_type": "stream",
          "text": [
            "TRAIN\t Loss: 0.00002825, RMSE: 0.00495917, MAE: 0.00371802, R2: 0.99733067\n",
            "EPOCH 2:\n"
          ]
        },
        {
          "name": "stderr",
          "output_type": "stream",
          "text": [
            "Elements...: 100%|██████████| 63/63 [00:00<00:00, 401.03it/s]\n"
          ]
        },
        {
          "name": "stdout",
          "output_type": "stream",
          "text": [
            "TRAIN\t Loss: 0.00002637, RMSE: 0.00480667, MAE: 0.00356966, R2: 0.99741715\n",
            "EPOCH 3:\n"
          ]
        },
        {
          "name": "stderr",
          "output_type": "stream",
          "text": [
            "Elements...: 100%|██████████| 63/63 [00:00<00:00, 408.72it/s]\n"
          ]
        },
        {
          "name": "stdout",
          "output_type": "stream",
          "text": [
            "TRAIN\t Loss: 0.00002588, RMSE: 0.00476078, MAE: 0.00353285, R2: 0.99747252\n",
            "EPOCH 4:\n"
          ]
        },
        {
          "name": "stderr",
          "output_type": "stream",
          "text": [
            "Elements...: 100%|██████████| 63/63 [00:00<00:00, 395.50it/s]\n"
          ]
        },
        {
          "name": "stdout",
          "output_type": "stream",
          "text": [
            "TRAIN\t Loss: 0.00002564, RMSE: 0.00473570, MAE: 0.00351748, R2: 0.99749863\n",
            "Model saved as student_policy_12.pt\n",
            "\n",
            "--- ITERATION 14/20 | beta = 0.002 ---\n",
            "Rollout... \n",
            "The Expert was selected 0 times, while the student was selected 2249 times\n",
            "Collected data - Observations: 34228 Actions: 34228\n",
            "Training Student Policy...\n",
            "EPOCH 0:\n"
          ]
        },
        {
          "name": "stderr",
          "output_type": "stream",
          "text": [
            "Elements...: 100%|██████████| 67/67 [00:00<00:00, 384.35it/s]\n"
          ]
        },
        {
          "name": "stdout",
          "output_type": "stream",
          "text": [
            "TRAIN\t Loss: 0.00002703, RMSE: 0.00479340, MAE: 0.00359174, R2: 0.99759388\n",
            "EPOCH 1:\n"
          ]
        },
        {
          "name": "stderr",
          "output_type": "stream",
          "text": [
            "Elements...: 100%|██████████| 67/67 [00:00<00:00, 398.10it/s]\n"
          ]
        },
        {
          "name": "stdout",
          "output_type": "stream",
          "text": [
            "TRAIN\t Loss: 0.00002639, RMSE: 0.00472245, MAE: 0.00353989, R2: 0.99767643\n",
            "EPOCH 2:\n"
          ]
        },
        {
          "name": "stderr",
          "output_type": "stream",
          "text": [
            "Elements...: 100%|██████████| 67/67 [00:00<00:00, 364.89it/s]\n"
          ]
        },
        {
          "name": "stdout",
          "output_type": "stream",
          "text": [
            "TRAIN\t Loss: 0.00002814, RMSE: 0.00485558, MAE: 0.00365623, R2: 0.99762577\n",
            "EPOCH 3:\n"
          ]
        },
        {
          "name": "stderr",
          "output_type": "stream",
          "text": [
            "Elements...: 100%|██████████| 67/67 [00:00<00:00, 386.38it/s]\n"
          ]
        },
        {
          "name": "stdout",
          "output_type": "stream",
          "text": [
            "TRAIN\t Loss: 0.00002667, RMSE: 0.00476754, MAE: 0.00357527, R2: 0.99764514\n",
            "EPOCH 4:\n"
          ]
        },
        {
          "name": "stderr",
          "output_type": "stream",
          "text": [
            "Elements...: 100%|██████████| 67/67 [00:00<00:00, 389.68it/s]\n"
          ]
        },
        {
          "name": "stdout",
          "output_type": "stream",
          "text": [
            "TRAIN\t Loss: 0.00002592, RMSE: 0.00470946, MAE: 0.00352964, R2: 0.99767375\n",
            "Model saved as student_policy_13.pt\n",
            "\n",
            "--- ITERATION 15/20 | beta = 0.001 ---\n",
            "Rollout... \n",
            "The Expert was selected 1 times, while the student was selected 2246 times\n",
            "Collected data - Observations: 36475 Actions: 36475\n",
            "Training Student Policy...\n",
            "EPOCH 0:\n"
          ]
        },
        {
          "name": "stderr",
          "output_type": "stream",
          "text": [
            "Elements...: 100%|██████████| 72/72 [00:00<00:00, 405.92it/s]\n"
          ]
        },
        {
          "name": "stdout",
          "output_type": "stream",
          "text": [
            "TRAIN\t Loss: 0.00001896, RMSE: 0.00410317, MAE: 0.00303227, R2: 0.99801952\n",
            "EPOCH 1:\n"
          ]
        },
        {
          "name": "stderr",
          "output_type": "stream",
          "text": [
            "Elements...: 100%|██████████| 72/72 [00:00<00:00, 408.97it/s]\n"
          ]
        },
        {
          "name": "stdout",
          "output_type": "stream",
          "text": [
            "TRAIN\t Loss: 0.00002030, RMSE: 0.00422083, MAE: 0.00315455, R2: 0.99799782\n",
            "EPOCH 2:\n"
          ]
        },
        {
          "name": "stderr",
          "output_type": "stream",
          "text": [
            "Elements...: 100%|██████████| 72/72 [00:00<00:00, 400.71it/s]\n"
          ]
        },
        {
          "name": "stdout",
          "output_type": "stream",
          "text": [
            "TRAIN\t Loss: 0.00002068, RMSE: 0.00425244, MAE: 0.00318567, R2: 0.99801230\n",
            "EPOCH 3:\n"
          ]
        },
        {
          "name": "stderr",
          "output_type": "stream",
          "text": [
            "Elements...: 100%|██████████| 72/72 [00:00<00:00, 401.07it/s]\n"
          ]
        },
        {
          "name": "stdout",
          "output_type": "stream",
          "text": [
            "TRAIN\t Loss: 0.00002153, RMSE: 0.00431816, MAE: 0.00323326, R2: 0.99799985\n",
            "EPOCH 4:\n"
          ]
        },
        {
          "name": "stderr",
          "output_type": "stream",
          "text": [
            "Elements...: 100%|██████████| 72/72 [00:00<00:00, 401.03it/s]\n"
          ]
        },
        {
          "name": "stdout",
          "output_type": "stream",
          "text": [
            "TRAIN\t Loss: 0.00002155, RMSE: 0.00431857, MAE: 0.00324147, R2: 0.99799579\n",
            "Model saved as student_policy_14.pt\n",
            "\n",
            "--- ITERATION 16/20 | beta = 0.001 ---\n",
            "Rollout... \n",
            "The Expert was selected 1 times, while the student was selected 2249 times\n",
            "Collected data - Observations: 38725 Actions: 38725\n",
            "Training Student Policy...\n",
            "EPOCH 0:\n"
          ]
        },
        {
          "name": "stderr",
          "output_type": "stream",
          "text": [
            "Elements...: 100%|██████████| 76/76 [00:00<00:00, 397.91it/s]\n"
          ]
        },
        {
          "name": "stdout",
          "output_type": "stream",
          "text": [
            "TRAIN\t Loss: 0.00002034, RMSE: 0.00422092, MAE: 0.00319812, R2: 0.99807793\n",
            "EPOCH 1:\n"
          ]
        },
        {
          "name": "stderr",
          "output_type": "stream",
          "text": [
            "Elements...: 100%|██████████| 76/76 [00:00<00:00, 407.71it/s]\n"
          ]
        },
        {
          "name": "stdout",
          "output_type": "stream",
          "text": [
            "TRAIN\t Loss: 0.00001901, RMSE: 0.00408865, MAE: 0.00306950, R2: 0.99815536\n",
            "EPOCH 2:\n"
          ]
        },
        {
          "name": "stderr",
          "output_type": "stream",
          "text": [
            "Elements...: 100%|██████████| 76/76 [00:00<00:00, 406.51it/s]\n"
          ]
        },
        {
          "name": "stdout",
          "output_type": "stream",
          "text": [
            "TRAIN\t Loss: 0.00001921, RMSE: 0.00411446, MAE: 0.00309895, R2: 0.99812102\n",
            "EPOCH 3:\n"
          ]
        },
        {
          "name": "stderr",
          "output_type": "stream",
          "text": [
            "Elements...: 100%|██████████| 76/76 [00:00<00:00, 408.39it/s]\n"
          ]
        },
        {
          "name": "stdout",
          "output_type": "stream",
          "text": [
            "TRAIN\t Loss: 0.00001929, RMSE: 0.00411402, MAE: 0.00310291, R2: 0.99813533\n",
            "EPOCH 4:\n"
          ]
        },
        {
          "name": "stderr",
          "output_type": "stream",
          "text": [
            "Elements...: 100%|██████████| 76/76 [00:00<00:00, 382.22it/s]\n"
          ]
        },
        {
          "name": "stdout",
          "output_type": "stream",
          "text": [
            "TRAIN\t Loss: 0.00001958, RMSE: 0.00413237, MAE: 0.00311437, R2: 0.99813557\n",
            "Model saved as student_policy_15.pt\n",
            "\n",
            "--- ITERATION 17/20 | beta = 0.000 ---\n",
            "Rollout... \n",
            "The Expert was selected 0 times, while the student was selected 2251 times\n",
            "Collected data - Observations: 40976 Actions: 40976\n",
            "Training Student Policy...\n",
            "EPOCH 0:\n"
          ]
        },
        {
          "name": "stderr",
          "output_type": "stream",
          "text": [
            "Elements...: 100%|██████████| 81/81 [00:00<00:00, 403.70it/s]\n"
          ]
        },
        {
          "name": "stdout",
          "output_type": "stream",
          "text": [
            "TRAIN\t Loss: 0.00001651, RMSE: 0.00379974, MAE: 0.00283791, R2: 0.99837017\n",
            "EPOCH 1:\n"
          ]
        },
        {
          "name": "stderr",
          "output_type": "stream",
          "text": [
            "Elements...: 100%|██████████| 81/81 [00:00<00:00, 375.89it/s]\n"
          ]
        },
        {
          "name": "stdout",
          "output_type": "stream",
          "text": [
            "TRAIN\t Loss: 0.00002432, RMSE: 0.00451836, MAE: 0.00326966, R2: 0.99806458\n",
            "EPOCH 2:\n"
          ]
        },
        {
          "name": "stderr",
          "output_type": "stream",
          "text": [
            "Elements...: 100%|██████████| 81/81 [00:00<00:00, 407.04it/s]\n"
          ]
        },
        {
          "name": "stdout",
          "output_type": "stream",
          "text": [
            "TRAIN\t Loss: 0.00002070, RMSE: 0.00421474, MAE: 0.00304040, R2: 0.99818921\n",
            "EPOCH 3:\n"
          ]
        },
        {
          "name": "stderr",
          "output_type": "stream",
          "text": [
            "Elements...: 100%|██████████| 81/81 [00:00<00:00, 419.25it/s]\n"
          ]
        },
        {
          "name": "stdout",
          "output_type": "stream",
          "text": [
            "TRAIN\t Loss: 0.00001934, RMSE: 0.00408960, MAE: 0.00297209, R2: 0.99824470\n",
            "EPOCH 4:\n"
          ]
        },
        {
          "name": "stderr",
          "output_type": "stream",
          "text": [
            "Elements...: 100%|██████████| 81/81 [00:00<00:00, 406.48it/s]\n"
          ]
        },
        {
          "name": "stdout",
          "output_type": "stream",
          "text": [
            "TRAIN\t Loss: 0.00001857, RMSE: 0.00401421, MAE: 0.00293184, R2: 0.99827969\n",
            "Model saved as student_policy_16.pt\n",
            "\n",
            "--- ITERATION 18/20 | beta = 0.000 ---\n",
            "Rollout... \n",
            "The Expert was selected 0 times, while the student was selected 2215 times\n",
            "Collected data - Observations: 43191 Actions: 43191\n",
            "Training Student Policy...\n",
            "EPOCH 0:\n"
          ]
        },
        {
          "name": "stderr",
          "output_type": "stream",
          "text": [
            "Elements...: 100%|██████████| 85/85 [00:00<00:00, 304.03it/s]\n"
          ]
        },
        {
          "name": "stdout",
          "output_type": "stream",
          "text": [
            "TRAIN\t Loss: 0.00002100, RMSE: 0.00424380, MAE: 0.00309957, R2: 0.99815178\n",
            "EPOCH 1:\n"
          ]
        },
        {
          "name": "stderr",
          "output_type": "stream",
          "text": [
            "Elements...: 100%|██████████| 85/85 [00:00<00:00, 317.58it/s]\n"
          ]
        },
        {
          "name": "stdout",
          "output_type": "stream",
          "text": [
            "TRAIN\t Loss: 0.00001666, RMSE: 0.00382689, MAE: 0.00278677, R2: 0.99836802\n",
            "EPOCH 2:\n"
          ]
        },
        {
          "name": "stderr",
          "output_type": "stream",
          "text": [
            "Elements...: 100%|██████████| 85/85 [00:00<00:00, 296.59it/s]\n"
          ]
        },
        {
          "name": "stdout",
          "output_type": "stream",
          "text": [
            "TRAIN\t Loss: 0.00001632, RMSE: 0.00377852, MAE: 0.00277746, R2: 0.99842316\n",
            "EPOCH 3:\n"
          ]
        },
        {
          "name": "stderr",
          "output_type": "stream",
          "text": [
            "Elements...: 100%|██████████| 85/85 [00:00<00:00, 273.35it/s]\n"
          ]
        },
        {
          "name": "stdout",
          "output_type": "stream",
          "text": [
            "TRAIN\t Loss: 0.00001643, RMSE: 0.00378474, MAE: 0.00280767, R2: 0.99843323\n",
            "EPOCH 4:\n"
          ]
        },
        {
          "name": "stderr",
          "output_type": "stream",
          "text": [
            "Elements...: 100%|██████████| 85/85 [00:00<00:00, 286.53it/s]\n"
          ]
        },
        {
          "name": "stdout",
          "output_type": "stream",
          "text": [
            "TRAIN\t Loss: 0.00001660, RMSE: 0.00379282, MAE: 0.00282999, R2: 0.99844617\n",
            "Model saved as student_policy_17.pt\n",
            "\n",
            "--- ITERATION 19/20 | beta = 0.000 ---\n",
            "Rollout... \n",
            "The Expert was selected 0 times, while the student was selected 2250 times\n",
            "Collected data - Observations: 45441 Actions: 45441\n",
            "Training Student Policy...\n",
            "EPOCH 0:\n"
          ]
        },
        {
          "name": "stderr",
          "output_type": "stream",
          "text": [
            "Elements...: 100%|██████████| 89/89 [00:00<00:00, 399.14it/s]\n"
          ]
        },
        {
          "name": "stdout",
          "output_type": "stream",
          "text": [
            "TRAIN\t Loss: 0.00001439, RMSE: 0.00356864, MAE: 0.00266625, R2: 0.99858981\n",
            "EPOCH 1:\n"
          ]
        },
        {
          "name": "stderr",
          "output_type": "stream",
          "text": [
            "Elements...: 100%|██████████| 89/89 [00:00<00:00, 383.35it/s]\n"
          ]
        },
        {
          "name": "stdout",
          "output_type": "stream",
          "text": [
            "TRAIN\t Loss: 0.00001777, RMSE: 0.00388415, MAE: 0.00288229, R2: 0.99851310\n",
            "EPOCH 2:\n"
          ]
        },
        {
          "name": "stderr",
          "output_type": "stream",
          "text": [
            "Elements...: 100%|██████████| 89/89 [00:00<00:00, 394.74it/s]\n"
          ]
        },
        {
          "name": "stdout",
          "output_type": "stream",
          "text": [
            "TRAIN\t Loss: 0.00001596, RMSE: 0.00370980, MAE: 0.00274949, R2: 0.99857384\n",
            "EPOCH 3:\n"
          ]
        },
        {
          "name": "stderr",
          "output_type": "stream",
          "text": [
            "Elements...: 100%|██████████| 89/89 [00:00<00:00, 404.91it/s]\n"
          ]
        },
        {
          "name": "stdout",
          "output_type": "stream",
          "text": [
            "TRAIN\t Loss: 0.00001554, RMSE: 0.00366549, MAE: 0.00272630, R2: 0.99858880\n",
            "EPOCH 4:\n"
          ]
        },
        {
          "name": "stderr",
          "output_type": "stream",
          "text": [
            "Elements...: 100%|██████████| 89/89 [00:00<00:00, 395.06it/s]\n"
          ]
        },
        {
          "name": "stdout",
          "output_type": "stream",
          "text": [
            "TRAIN\t Loss: 0.00001521, RMSE: 0.00364251, MAE: 0.00271957, R2: 0.99858826\n",
            "Model saved as student_policy_18.pt\n",
            "\n",
            "--- ITERATION 20/20 | beta = 0.000 ---\n",
            "Rollout... \n",
            "The Expert was selected 0 times, while the student was selected 2250 times\n",
            "Collected data - Observations: 47691 Actions: 47691\n",
            "Training Student Policy...\n",
            "EPOCH 0:\n"
          ]
        },
        {
          "name": "stderr",
          "output_type": "stream",
          "text": [
            "Elements...: 100%|██████████| 94/94 [00:00<00:00, 395.13it/s]\n"
          ]
        },
        {
          "name": "stdout",
          "output_type": "stream",
          "text": [
            "TRAIN\t Loss: 0.00001282, RMSE: 0.00338371, MAE: 0.00255868, R2: 0.99849319\n",
            "EPOCH 1:\n"
          ]
        },
        {
          "name": "stderr",
          "output_type": "stream",
          "text": [
            "Elements...: 100%|██████████| 94/94 [00:00<00:00, 409.41it/s]\n"
          ]
        },
        {
          "name": "stdout",
          "output_type": "stream",
          "text": [
            "TRAIN\t Loss: 0.00001510, RMSE: 0.00358191, MAE: 0.00271512, R2: 0.99858451\n",
            "EPOCH 2:\n"
          ]
        },
        {
          "name": "stderr",
          "output_type": "stream",
          "text": [
            "Elements...: 100%|██████████| 94/94 [00:00<00:00, 405.59it/s]\n"
          ]
        },
        {
          "name": "stdout",
          "output_type": "stream",
          "text": [
            "TRAIN\t Loss: 0.00001435, RMSE: 0.00350988, MAE: 0.00264882, R2: 0.99864262\n",
            "EPOCH 3:\n"
          ]
        },
        {
          "name": "stderr",
          "output_type": "stream",
          "text": [
            "Elements...: 100%|██████████| 94/94 [00:00<00:00, 400.55it/s]\n"
          ]
        },
        {
          "name": "stdout",
          "output_type": "stream",
          "text": [
            "TRAIN\t Loss: 0.00001345, RMSE: 0.00341902, MAE: 0.00257041, R2: 0.99869180\n",
            "EPOCH 4:\n"
          ]
        },
        {
          "name": "stderr",
          "output_type": "stream",
          "text": [
            "Elements...: 100%|██████████| 94/94 [00:00<00:00, 387.88it/s]\n"
          ]
        },
        {
          "name": "stdout",
          "output_type": "stream",
          "text": [
            "TRAIN\t Loss: 0.00001328, RMSE: 0.00340410, MAE: 0.00256130, R2: 0.99869609\n",
            "Model saved as student_policy_19.pt\n",
            "Evaluating the best student...\n",
            "student_policy_0.pt\t Loss: 0.02963963, RMSE: 0.15996771, MAE: 0.12446148, R2: 0.29197115\n",
            "student_policy_1.pt\t Loss: 0.01622160, RMSE: 0.11347617, MAE: 0.08077682, R2: 0.54710692\n",
            "student_policy_2.pt\t Loss: 0.01212965, RMSE: 0.09899024, MAE: 0.06923320, R2: 0.65899110\n",
            "student_policy_3.pt\t Loss: 0.01005203, RMSE: 0.09263600, MAE: 0.06479467, R2: 0.69711530\n",
            "student_policy_4.pt\t Loss: 0.00944234, RMSE: 0.09066804, MAE: 0.06328025, R2: 0.71609199\n",
            "student_policy_5.pt\t Loss: 0.00921655, RMSE: 0.08883385, MAE: 0.06216289, R2: 0.72994620\n",
            "student_policy_6.pt\t Loss: 0.00841510, RMSE: 0.08795118, MAE: 0.06162636, R2: 0.73700911\n",
            "student_policy_7.pt\t Loss: 0.00949608, RMSE: 0.08686584, MAE: 0.06086705, R2: 0.74464816\n",
            "student_policy_8.pt\t Loss: 0.00784993, RMSE: 0.08632495, MAE: 0.06044428, R2: 0.74970537\n",
            "student_policy_9.pt\t Loss: 0.00850166, RMSE: 0.08601230, MAE: 0.06039143, R2: 0.75161469\n",
            "student_policy_10.pt\t Loss: 0.00915408, RMSE: 0.08582023, MAE: 0.06009824, R2: 0.75405318\n",
            "student_policy_11.pt\t Loss: 0.00905894, RMSE: 0.08533645, MAE: 0.05996365, R2: 0.75398391\n",
            "student_policy_12.pt\t Loss: 0.00749596, RMSE: 0.08556267, MAE: 0.06008424, R2: 0.75414968\n",
            "student_policy_13.pt\t Loss: 0.01007059, RMSE: 0.08550038, MAE: 0.06001698, R2: 0.75413299\n",
            "student_policy_14.pt\t Loss: 0.00838535, RMSE: 0.08570230, MAE: 0.06018788, R2: 0.75230861\n",
            "student_policy_15.pt\t Loss: 0.00903564, RMSE: 0.08514633, MAE: 0.05974090, R2: 0.75484496\n",
            "student_policy_16.pt\t Loss: 0.00989766, RMSE: 0.08518677, MAE: 0.05967484, R2: 0.75725806\n",
            "student_policy_17.pt\t Loss: 0.00831081, RMSE: 0.08516583, MAE: 0.05963100, R2: 0.75838816\n",
            "student_policy_18.pt\t Loss: 0.00784666, RMSE: 0.08468580, MAE: 0.05926266, R2: 0.76034373\n",
            "student_policy_19.pt\t Loss: 0.00847076, RMSE: 0.08454373, MAE: 0.05910400, R2: 0.76220536\n",
            "The better student Policy is the student_policy_12.pt\n"
          ]
        }
      ],
      "source": [
        "#@title Run the DAgger Algorithm\n",
        "loss_fn = nn.MSELoss()\n",
        "\n",
        "# Hyperparameters for training the student\n",
        "lr = 1e-3  #@param {type:\"number\"}\n",
        "batch_size = 512 #@param {type:\"integer\"}\n",
        "num_epochs = 5 #@param {type:\"integer\"}\n",
        "\n",
        "# Number of generated episodes in each iteration of DAgger\n",
        "rollouts_per_iteration=20 #@param {type:\"integer\"}\n",
        "\n",
        "# Number of iteration of DAgger\n",
        "n_iterations=20 #@param {type:\"integer\"}\n",
        "\n",
        "\n",
        "# The type of function that manages the value of Beta. It can be 'inverse', 'linear', 'exponential'\n",
        "betaMode = 'exponential' #@param [\"inverse\",\"linear\",\"exponential\"]\n",
        "\n",
        "# Exponent used in the beta function when betaMode is set to 'exponential'\n",
        "exponential_beta_k = 0.3 #@param {type:\"number\"}\n",
        "\n",
        "# It can be 'simple' or 'deep, but generally 'simple' for students\n",
        "student_type='simple' #@param [\"simple\",\"deep\"]\n",
        "\n",
        "# Initializing the student\n",
        "net_wrapper = NetworkInterface(net_type=student_type,input_dim=state_dim,output_dim=action_dim)\n",
        "net_wrapper.summary()\n",
        "pi = net_wrapper.get_model().to(device)\n",
        "\n",
        "# Loading pre-trained expert/teacher\n",
        "expert_type='deep'\n",
        "net_wrapper = NetworkInterface(net_type=expert_type,input_dim=state_dim,output_dim=action_dim)\n",
        "net_wrapper.summary()\n",
        "pi_star = net_wrapper.get_model().to(device)\n",
        "pi_star.load_state_dict(torch.load('./DAgger4Robotics/experts_kitchen/deep/kitchen_complete/batch_size_64_lr_1e-3/expert_policy.pt', map_location=device))\n",
        "pi_star.eval()\n",
        "\n",
        "env = gym.make('FrankaKitchen-v1', tasks_to_complete=['microwave'])\n",
        "optimizer = torch.optim.Adam(pi.parameters(), lr=lr)\n",
        "\n",
        "# Initializing the DAgger algorithm\n",
        "dagger = DAgger(env = env,\n",
        "                env_type = 'kitchen',\n",
        "                validationDataset= validation_microwave_dataset,\n",
        "                studentPolicy = pi,\n",
        "                expertPolicy = pi_star,\n",
        "                optimizer=optimizer,\n",
        "                loss_fn = loss_fn,\n",
        "                batch_size = batch_size,\n",
        "                num_epochs = num_epochs,\n",
        "                betaMode = betaMode,\n",
        "                device = device,\n",
        "                rollouts_per_iteration=rollouts_per_iteration,\n",
        "                exponential_beta_k = exponential_beta_k\n",
        "                )\n",
        "\n",
        "# Running the training\n",
        "dagger.run(n_iterations=n_iterations)"
      ]
    },
    {
      "cell_type": "markdown",
      "metadata": {
        "id": "VGaemovZAyhV"
      },
      "source": [
        "### Simulation\n",
        "Use this section to run rollouts in the environment using the newly trained student network. You can customize the simulation with the following parameters:\n",
        "- `idx`: <mark style=\"background-color:#ffcccc\"><font color=\"red\"><b>IMPORTANT</b></font></mark> 🚨 **Set this to the index of the best-performing model found in the training above** (Ex. \"The better student Policy is the student_policy_12.pt\" => Then you should put idx = 12)\n",
        "- `render`: If True, displays on screen the rollouts. **Requires a GPU**\n",
        "- `framerate_per_episode` : Controls how frequently frames are rendered. Only frames where `(frame_idx % framerate_per_episode == 0)` are shown\n",
        "- `video_saving`: If True, saves the video of the episodes in `./new_videos` folder. In **Kitchen** environment, this critically increase computational time\n",
        "- `n_episodes`: Number of episodes to simulate\n",
        "- `robot_noise`: Magnitude of noise added to the robot’s proprioceptive variables (only for the **Kitchen** environment)\n",
        "\n",
        "At the end of all the Rollouts, a mean_rewards.json file will be saved, and it will contain:\n",
        "- The mean rewards for each episode\n",
        "- `mean_of_means`: The overall mean reward across all episodes\n",
        "\n",
        "### Using a Saved model\n",
        "\n",
        "If you want to simulate one of our pretrained models, you can load it manually by changing:\n",
        "- `path_to_model`: Insert here the complete path to the model provided by `Dagger4Robotics` folder\n",
        "- `net_type`: The architecture type of the loaded model (`\"simple\"` or `\"deep\"`)"
      ]
    },
    {
      "cell_type": "code",
      "execution_count": null,
      "metadata": {
        "id": "UxUlKrNLGlRn"
      },
      "outputs": [],
      "source": [
        "#@title Parameters of the experiments { run: \"auto\" }\n",
        "# Change this value to the best model found\n",
        "idx=1 #@param {type:\"integer\"}\n",
        "render = True #@param {type:\"boolean\"}\n",
        "framerate_per_episode=5  #@param {type:\"integer\"}\n",
        "video_saving = False #@param {type:\"boolean\"}\n",
        "n_episodes = 1 #@param {type:\"integer\"}\n",
        "robot_noise=0.01 #@param {type:\"number\"}\n",
        "\n",
        "path_to_model=f\"student_policy_{idx}.pt\"\n",
        "net_type=student_type"
      ]
    },
    {
      "cell_type": "code",
      "execution_count": null,
      "metadata": {
        "id": "39yEsN3Ac7Eu"
      },
      "outputs": [],
      "source": [
        "sim = Simulator(\n",
        "        env_mode='kitchen',\n",
        "        net_type=net_type,\n",
        "        path_to_model=path_to_model,\n",
        "        n_episodes=n_episodes,\n",
        "        render=render,\n",
        "        framerate_per_episode=framerate_per_episode,\n",
        "        video_saving=video_saving,\n",
        "        robot_noise=robot_noise,\n",
        "        device=device\n",
        "    )\n",
        "sim.run()"
      ]
    }
  ],
  "metadata": {
    "accelerator": "GPU",
    "colab": {
      "gpuType": "T4",
      "provenance": []
    },
    "kernelspec": {
      "display_name": "Python 3",
      "name": "python3"
    },
    "language_info": {
      "name": "python"
    }
  },
  "nbformat": 4,
  "nbformat_minor": 0
}
