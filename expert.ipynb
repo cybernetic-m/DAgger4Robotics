{
 "cells": [
  {
   "cell_type": "markdown",
   "id": "a72e3721",
   "metadata": {},
   "source": [
    "## Import and variables initialization"
   ]
  },
  {
   "cell_type": "code",
   "execution_count": null,
   "id": "25864eca",
   "metadata": {},
   "outputs": [],
   "source": [
    "import gymnasium as gym\n",
    "import minari # needed for dataset\n",
    "from torch.utils.data import TensorDataset, DataLoader\n",
    "import torch.nn as nn\n",
    "import torch\n",
    "import numpy as np\n",
    "import matplotlib.pyplot as plt\n",
    "\n",
    "device = torch.device(\"cuda\" if torch.cuda.is_available() else \"cpu\")\n",
    "\n",
    "#Dimensions of the problem\n",
    "s_dim = 10\n",
    "a_dim = 2\n",
    "\n",
    "#Hyperparameters for the training\n",
    "batch_size=256\n",
    "lr = 1e-3\n",
    "epochs = 50"
   ]
  },
  {
   "cell_type": "markdown",
   "id": "2da93220",
   "metadata": {},
   "source": [
    "## Downloading and Pre-processing the Dataset"
   ]
  },
  {
   "cell_type": "code",
   "execution_count": null,
   "id": "eb9e16d9",
   "metadata": {},
   "outputs": [],
   "source": [
    "dataset = minari.load_dataset('mujoco/reacher/medium-v0')\n",
    "dataset.set_seed(42)  # Set a seed for reproducibility\n",
    "print(\"Dataset loaded successfully!\")\n",
    "\n",
    "# To sample episodes from the dataset\n",
    "#episodes = dataset.sample_episodes(6)\n",
    "#ids = [episode.id for episode in episodes]\n",
    "#print(ids)\n",
    "\n",
    "# get episodes with mean reward greater than 2\n",
    "#expert_dataset = dataset.filter_episodes(lambda episode: episode.rewards.mean() > -0.1)\n",
    "#print(f'TOTAL EPISODES FILTER DATASET: {filter_dataset.total_episodes}')\n",
    "\n",
    "# Split the dataset into training, evaluation and test sets with percentage sizes 0.7, 0.2, 0.1\n",
    "# The original dataset is of size 10000, we split it into 7000 for training and 2000 for evaluation and 1000 for testing\n",
    "dataset_split = minari.split_dataset(dataset, sizes=[7000, 2000, 1000], seed=42) \n",
    "training_dataset = dataset_split[0]\n",
    "evaluation_dataset = dataset_split[1]\n",
    "test_dataset = dataset_split[2]\n",
    "print(f\"Training episodes: {len(training_dataset)}\")\n",
    "print(f\"Evaluation episodes: {len(evaluation_dataset)}\")\n",
    "print(f\"Test episodes: {len(test_dataset)}\")\n",
    "\n",
    "def to_loader(data, batch_size):\n",
    "    x_list = []  # observations (input for the model)\n",
    "    y_list = []  # actions (target)\n",
    "    for ep in data:\n",
    "        obs = ep.observations[:-1]  # (50, 10) (removing the last one)\n",
    "        acts = ep.actions           # (50, 2)\n",
    "        \n",
    "        # consistency check\n",
    "        assert obs.shape[0] == acts.shape[0], f\"Shape mismatch: {obs.shape[0]} vs {acts.shape[0]}\"\n",
    "        \n",
    "        x_list.append(obs)\n",
    "        y_list.append(acts)\n",
    "    \n",
    "    s = np.concatenate(x_list, axis=0)  # shape (len(data)*50, 10)\n",
    "    a = np.concatenate(y_list, axis=0)  # shape (len(data)*50, 2)\n",
    "\n",
    "    dataset = TensorDataset(torch.tensor(s, dtype=torch.float32), torch.tensor(a, dtype=torch.float32))\n",
    "    return DataLoader(dataset, batch_size=batch_size, shuffle=True)\n",
    "\n",
    "train_loader = to_loader(training_dataset, batch_size)\n",
    "test_loader = to_loader(test_dataset, batch_size)\n",
    "eval_loader= to_loader(evaluation_dataset, batch_size)"
   ]
  },
  {
   "cell_type": "markdown",
   "id": "a6718065",
   "metadata": {},
   "source": [
    "## Model"
   ]
  },
  {
   "cell_type": "code",
   "execution_count": null,
   "id": "f88bdac6",
   "metadata": {},
   "outputs": [],
   "source": [
    "class ExpertPolicyNet(nn.Module):\n",
    "    def __init__(self, input_dim, output_dim):\n",
    "        super().__init__()\n",
    "        self.fc1 = nn.Linear(input_dim, 256)\n",
    "        self.fc2 = nn.Linear(256, 128)\n",
    "        self.fc3 = nn.Linear(128, output_dim)\n",
    "\n",
    "    def forward(self, x):\n",
    "        x = torch.relu(self.fc1(x))\n",
    "        x = torch.relu(self.fc2(x))\n",
    "        x = self.fc3(x)\n",
    "        return x"
   ]
  },
  {
   "cell_type": "markdown",
   "id": "d1cde55b",
   "metadata": {},
   "source": [
    "## Initialization of the trainig loop"
   ]
  },
  {
   "cell_type": "code",
   "execution_count": null,
   "id": "1e4cb663",
   "metadata": {},
   "outputs": [],
   "source": [
    "model = ExpertPolicyNet(s_dim, a_dim).to(device)\n",
    "optimizer = torch.optim.Adam(model.parameters(), lr=lr)\n",
    "loss_fn = nn.MSELoss()\n",
    "\n",
    "train_losses = []\n",
    "test_losses = []"
   ]
  },
  {
   "cell_type": "markdown",
   "id": "6215f323",
   "metadata": {},
   "source": [
    "## Training loop"
   ]
  },
  {
   "cell_type": "code",
   "execution_count": null,
   "id": "d1a0714b",
   "metadata": {},
   "outputs": [],
   "source": [
    "for epoch in range(epochs):\n",
    "    model.train()\n",
    "    epoch_loss = 0\n",
    "    for xb, yb in train_loader:\n",
    "        xb, yb = xb.to(device), yb.to(device)\n",
    "        pred = model(xb)\n",
    "        loss = loss_fn(pred, yb)\n",
    "        optimizer.zero_grad()\n",
    "        loss.backward()\n",
    "        optimizer.step()\n",
    "        epoch_loss += loss.item()\n",
    "    train_losses.append(epoch_loss / len(train_loader))\n",
    "\n",
    "    # TEST\n",
    "    model.eval()\n",
    "    with torch.no_grad():\n",
    "        test_loss = sum(loss_fn(model(xb.to(device)), yb.to(device)).item()\n",
    "                        for xb, yb in test_loader) / len(test_loader)\n",
    "        test_losses.append(test_loss)\n",
    "\n",
    "    print(f\"[Epoch {epoch+1}] Train Loss: {train_losses[-1]:.4f} | Test Loss: {test_loss:.4f}\")"
   ]
  },
  {
   "cell_type": "markdown",
   "id": "240598cc",
   "metadata": {},
   "source": [
    "## EVAL SET LOSS"
   ]
  },
  {
   "cell_type": "code",
   "execution_count": null,
   "id": "9f692d41",
   "metadata": {},
   "outputs": [],
   "source": [
    "model.eval()\n",
    "with torch.no_grad():\n",
    "    eval_loss = sum(loss_fn(model(xb.to(device)), yb.to(device)).item()\n",
    "                    for xb, yb in eval_loader) / len(eval_loader)\n",
    "print(f\"\\nFinal EVAL Loss: {eval_loss:.4f}\")"
   ]
  },
  {
   "cell_type": "markdown",
   "id": "25f033b9",
   "metadata": {},
   "source": [
    "## Plot Of the Losses"
   ]
  },
  {
   "cell_type": "code",
   "execution_count": null,
   "id": "295568a2",
   "metadata": {},
   "outputs": [],
   "source": [
    "plt.plot(train_losses, label=\"Train Loss\")\n",
    "plt.plot(test_losses, label=\"Test Loss\")\n",
    "plt.xlabel(\"Epoch\")\n",
    "plt.ylabel(\"Loss (MSE)\")\n",
    "plt.legend()\n",
    "plt.title(\"π* Training Progress\")\n",
    "plt.show()"
   ]
  }
 ],
 "metadata": {
  "language_info": {
   "name": "python"
  }
 },
 "nbformat": 4,
 "nbformat_minor": 5
}
